{
 "cells": [
  {
   "cell_type": "code",
   "execution_count": null,
   "id": "4726b6b2",
   "metadata": {},
   "outputs": [],
   "source": [
    "from dataset.OfflineDataset import OfflineDataset\n",
    "import torch\n",
    "from tensordict import TensorDict\n",
    "from torch.utils.data import DataLoader, RandomSampler"
   ]
  },
  {
   "cell_type": "code",
   "execution_count": 206,
   "id": "85ab7206",
   "metadata": {},
   "outputs": [],
   "source": [
    "td = TensorDict({\n",
    "    'soe': torch.randint(0,10,(17520,1), dtype=torch.float32),\n",
    "    'action': torch.randint(-1,1,(17520,1), dtype=torch.float32),\n",
    "    'prosumption': torch.randint(-2,2,(17520,1), dtype=torch.float32),\n",
    "    'prosumption_forecast': torch.randint(-2,2,(17520,5), dtype=torch.float32),\n",
    "    'observation': torch.randint(-2,2,(17520,10), dtype=torch.float32),\n",
    "    \n",
    "}, batch_size=torch.Size([17520,]),\n",
    "device='cpu'\n",
    ")\n",
    "torch.save(td, '../output/1.pt')"
   ]
  },
  {
   "cell_type": "code",
   "execution_count": 207,
   "id": "92e934bf",
   "metadata": {},
   "outputs": [
    {
     "data": {
      "text/plain": [
       "TensorDict(\n",
       "    fields={\n",
       "        action: Tensor(shape=torch.Size([17520, 1]), device=cpu, dtype=torch.float32, is_shared=False),\n",
       "        observation: Tensor(shape=torch.Size([17520, 10]), device=cpu, dtype=torch.float32, is_shared=False),\n",
       "        prosumption: Tensor(shape=torch.Size([17520, 1]), device=cpu, dtype=torch.float32, is_shared=False),\n",
       "        prosumption_forecast: Tensor(shape=torch.Size([17520, 5]), device=cpu, dtype=torch.float32, is_shared=False),\n",
       "        soe: Tensor(shape=torch.Size([17520, 1]), device=cpu, dtype=torch.float32, is_shared=False)},\n",
       "    batch_size=torch.Size([17520]),\n",
       "    device=cpu,\n",
       "    is_shared=False)"
      ]
     },
     "execution_count": 207,
     "metadata": {},
     "output_type": "execute_result"
    }
   ],
   "source": [
    "td"
   ]
  },
  {
   "cell_type": "code",
   "execution_count": 45,
   "id": "a67473f5",
   "metadata": {},
   "outputs": [
    {
     "data": {
      "text/plain": [
       "5"
      ]
     },
     "execution_count": 45,
     "metadata": {},
     "output_type": "execute_result"
    }
   ],
   "source": [
    "dataset = OfflineDataset('../output',1)\n",
    "len(dataset)"
   ]
  },
  {
   "cell_type": "code",
   "execution_count": 87,
   "id": "987fbbfe",
   "metadata": {},
   "outputs": [
    {
     "data": {
      "text/plain": [
       "TensorDict(\n",
       "    fields={\n",
       "        action: Tensor(shape=torch.Size([1]), device=cpu, dtype=torch.float32, is_shared=False),\n",
       "        prosumption: Tensor(shape=torch.Size([1]), device=cpu, dtype=torch.float32, is_shared=False),\n",
       "        prosumption_forecast: Tensor(shape=torch.Size([2]), device=cpu, dtype=torch.float32, is_shared=False),\n",
       "        soe: Tensor(shape=torch.Size([1]), device=cpu, dtype=torch.float32, is_shared=False)},\n",
       "    batch_size=torch.Size([]),\n",
       "    device=None,\n",
       "    is_shared=False)"
      ]
     },
     "execution_count": 87,
     "metadata": {},
     "output_type": "execute_result"
    }
   ],
   "source": [
    "dataset[0]"
   ]
  },
  {
   "cell_type": "code",
   "execution_count": 77,
   "id": "db657d90",
   "metadata": {},
   "outputs": [],
   "source": [
    "dataloader = iter(DataLoader(dataset=td, batch_size=1, shuffle=True, collate_fn=lambda x: x))"
   ]
  },
  {
   "cell_type": "code",
   "execution_count": 83,
   "id": "49352ec6",
   "metadata": {},
   "outputs": [],
   "source": [
    "dataloader = iter(DataLoader(dataset=dataset, batch_size=1, shuffle=True))"
   ]
  },
  {
   "cell_type": "code",
   "execution_count": 213,
   "id": "3e056d6c",
   "metadata": {},
   "outputs": [],
   "source": [
    "import numpy as np"
   ]
  },
  {
   "cell_type": "code",
   "execution_count": 226,
   "id": "d37bfffc",
   "metadata": {},
   "outputs": [],
   "source": [
    "class OffData():\n",
    "    def __init__(self, generated_data_path, batch_size, ep_len):\n",
    "        self._td = torch.load(generated_data_path, weights_only=False)\n",
    "        self._batch_size = batch_size\n",
    "        self._ep_len = ep_len\n",
    "        self._num_traj = int(td.batch_size.numel() / ep_len)\n",
    "\n",
    "    def __len__(self):\n",
    "        return self._num_traj\n",
    "    \n",
    "    def sample(self):\n",
    "        inds = torch.randint(low=0, high=self._num_traj-1, size=(self._batch_size,))\n",
    "        \n",
    "        s, a, r, rtg, t = [],[],[],[],[]\n",
    "        for i in inds:\n",
    "            traj = self._td[i:i+self._ep_len]\n",
    "            s.append(traj['observation'].unsqueeze(0))\n",
    "            a.append(traj['action'].unsqueeze(0))\n",
    "            # r.append(traj['next','observation'].unsqueeze(-1))\n",
    "            t.append(np.arange(0,self._ep_len))\n",
    "        states = torch.cat(s, dim=0)\n",
    "        actions = torch.cat(a, dim=0)\n",
    "        # rewards = torch.cat(r, dim=0)\n",
    "        timesteps = torch.from_numpy(np.concatenate(t, axis=0))\n",
    "\n",
    "        return states, actions, timesteps\n"
   ]
  },
  {
   "cell_type": "code",
   "execution_count": 255,
   "id": "402600c6",
   "metadata": {},
   "outputs": [
    {
     "data": {
      "text/plain": [
       "(tensor([[[-2.,  0.,  1.,  1.,  0., -2.,  1.,  0., -2.,  0.],\n",
       "          [ 1., -1.,  1.,  1., -2.,  0., -2.,  0.,  1.,  1.],\n",
       "          [ 0., -1.,  0.,  0., -1.,  0., -2., -1.,  1.,  1.],\n",
       "          [ 0., -2.,  0.,  0., -2., -1.,  1., -1., -2.,  1.],\n",
       "          [ 0., -2., -1., -2., -2., -1.,  1., -1., -1.,  1.],\n",
       "          [ 0., -2.,  0.,  0., -1., -2., -2.,  0., -1.,  0.],\n",
       "          [-2., -2.,  1.,  1., -2.,  1., -1., -2.,  1., -1.],\n",
       "          [-1., -1., -1., -1., -2.,  1.,  0.,  0.,  0.,  0.],\n",
       "          [-2., -2., -1.,  0., -1., -1., -1.,  1., -1.,  1.],\n",
       "          [ 1., -2.,  0.,  0., -1., -1., -2.,  1.,  1., -1.],\n",
       "          [ 1.,  1., -2., -1.,  0.,  0., -2.,  0.,  1., -1.],\n",
       "          [-1., -2., -1.,  0., -2.,  1., -1., -1., -1., -1.],\n",
       "          [ 0., -1., -1., -1.,  0.,  0.,  1.,  0., -2., -1.],\n",
       "          [-1.,  1.,  1., -1.,  1.,  0.,  1.,  0., -1., -2.],\n",
       "          [-1., -2.,  1., -2.,  0.,  0., -1., -1.,  0., -1.],\n",
       "          [ 0., -1., -2., -1., -2.,  1., -2., -2.,  0., -1.],\n",
       "          [ 0., -2., -1., -2., -2., -2.,  1.,  0.,  0.,  1.],\n",
       "          [ 0.,  0.,  0.,  0.,  1., -2.,  1., -2., -2.,  1.],\n",
       "          [ 1., -2., -1., -2., -2., -1., -2., -2.,  0.,  0.],\n",
       "          [-2., -1.,  1., -2., -1.,  1., -1.,  1.,  0.,  0.],\n",
       "          [ 1., -1., -2.,  1.,  0.,  0.,  1., -2., -1.,  1.],\n",
       "          [-2.,  0.,  0., -1., -2., -2., -2., -2.,  0.,  0.],\n",
       "          [ 1.,  0.,  0.,  0., -1.,  0., -1., -1.,  1.,  0.],\n",
       "          [ 0.,  1.,  0., -1., -2.,  0., -1.,  0.,  1.,  1.],\n",
       "          [ 0.,  1., -2., -1.,  1., -2.,  1.,  1., -2.,  0.],\n",
       "          [ 1.,  0., -2., -2., -2.,  0., -2., -1., -2.,  1.],\n",
       "          [-1., -1.,  1., -1., -1., -1., -2., -1.,  1.,  0.],\n",
       "          [ 1.,  1., -1.,  1.,  0., -1., -1.,  0., -1.,  1.],\n",
       "          [-1., -2., -1.,  1.,  1., -1., -1., -1.,  1., -1.],\n",
       "          [-2., -2., -1., -2.,  0., -1.,  0.,  0.,  1., -2.],\n",
       "          [-2., -1.,  0., -1., -2., -1.,  1., -2., -2., -2.],\n",
       "          [-1.,  1., -1.,  1.,  0.,  0., -2.,  1.,  1., -1.],\n",
       "          [ 0., -2., -2., -2.,  0.,  0.,  0., -1., -2., -2.],\n",
       "          [-1.,  0.,  1.,  0., -2., -1.,  1.,  1., -2.,  0.],\n",
       "          [ 1.,  1., -1.,  1.,  0., -2., -1., -1.,  1., -1.],\n",
       "          [-2.,  1.,  0., -2., -2.,  1.,  0.,  0.,  1.,  0.],\n",
       "          [ 0.,  1.,  1.,  0., -2.,  1., -2.,  0., -1.,  0.],\n",
       "          [ 1., -1., -1., -1.,  0.,  0.,  0., -2.,  0.,  0.],\n",
       "          [ 0.,  0.,  1., -2., -2., -2.,  0., -2.,  1., -2.],\n",
       "          [ 1.,  0.,  1.,  0., -1., -1.,  0., -2., -1., -1.],\n",
       "          [ 0.,  0.,  1., -1.,  1., -2.,  0., -2., -1., -2.],\n",
       "          [-1., -1.,  1.,  1., -1.,  0., -1., -1., -2.,  1.],\n",
       "          [-1., -1.,  1.,  1.,  1., -1.,  0., -2.,  1.,  0.],\n",
       "          [-1.,  0., -2., -2., -2., -2.,  1.,  0., -2., -1.],\n",
       "          [ 1., -1., -2.,  0.,  0., -1., -1.,  1., -1., -2.],\n",
       "          [-2.,  1.,  0., -2.,  1.,  0.,  0., -1., -1.,  0.],\n",
       "          [-1., -2., -1., -1.,  1., -1., -1., -2.,  0., -1.],\n",
       "          [ 0.,  1.,  0., -1.,  1.,  0.,  1., -2.,  0.,  0.]]]),\n",
       " tensor([[[-1.],\n",
       "          [-1.],\n",
       "          [-1.],\n",
       "          [-1.],\n",
       "          [ 0.],\n",
       "          [ 0.],\n",
       "          [ 0.],\n",
       "          [ 0.],\n",
       "          [ 0.],\n",
       "          [ 0.],\n",
       "          [ 0.],\n",
       "          [ 0.],\n",
       "          [-1.],\n",
       "          [-1.],\n",
       "          [-1.],\n",
       "          [ 0.],\n",
       "          [ 0.],\n",
       "          [-1.],\n",
       "          [ 0.],\n",
       "          [ 0.],\n",
       "          [-1.],\n",
       "          [ 0.],\n",
       "          [ 0.],\n",
       "          [ 0.],\n",
       "          [-1.],\n",
       "          [ 0.],\n",
       "          [ 0.],\n",
       "          [ 0.],\n",
       "          [-1.],\n",
       "          [ 0.],\n",
       "          [-1.],\n",
       "          [ 0.],\n",
       "          [ 0.],\n",
       "          [-1.],\n",
       "          [ 0.],\n",
       "          [ 0.],\n",
       "          [-1.],\n",
       "          [ 0.],\n",
       "          [-1.],\n",
       "          [ 0.],\n",
       "          [-1.],\n",
       "          [-1.],\n",
       "          [ 0.],\n",
       "          [-1.],\n",
       "          [-1.],\n",
       "          [ 0.],\n",
       "          [ 0.],\n",
       "          [-1.]]]),\n",
       " tensor([ 0,  1,  2,  3,  4,  5,  6,  7,  8,  9, 10, 11, 12, 13, 14, 15, 16, 17,\n",
       "         18, 19, 20, 21, 22, 23, 24, 25, 26, 27, 28, 29, 30, 31, 32, 33, 34, 35,\n",
       "         36, 37, 38, 39, 40, 41, 42, 43, 44, 45, 46, 47]))"
      ]
     },
     "execution_count": 255,
     "metadata": {},
     "output_type": "execute_result"
    }
   ],
   "source": [
    "OffData('../output/1.pt', 1,48).sample()"
   ]
  }
 ],
 "metadata": {
  "kernelspec": {
   "display_name": "dtkd",
   "language": "python",
   "name": "python3"
  },
  "language_info": {
   "codemirror_mode": {
    "name": "ipython",
    "version": 3
   },
   "file_extension": ".py",
   "mimetype": "text/x-python",
   "name": "python",
   "nbconvert_exporter": "python",
   "pygments_lexer": "ipython3",
   "version": "3.13.5"
  }
 },
 "nbformat": 4,
 "nbformat_minor": 5
}
