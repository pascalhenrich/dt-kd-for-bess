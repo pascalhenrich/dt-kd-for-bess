{
 "cells": [
  {
   "cell_type": "code",
   "execution_count": 1,
   "id": "b232cc3e",
   "metadata": {},
   "outputs": [],
   "source": [
    "import os\n",
    "import gurobipy as gp\n",
    "from gurobipy import GRB\n",
    "import numpy as np\n",
    "import pandas as pd\n",
    "from torch.utils.data import DataLoader\n",
    "import matplotlib.pyplot as plt\n",
    "import seaborn as sns\n",
    "\n",
    "from dataset.OnlineDataset import OnlineDataset\n",
    "import torch"
   ]
  },
  {
   "cell_type": "code",
   "execution_count": 2,
   "id": "37b97bbc",
   "metadata": {},
   "outputs": [],
   "source": [
    "building_ids=[13, 20, 33, 35, 74, 75, 82, 87, 88, 101, 106, 109, 130, 144, 152, 153, 157, 161, 169, 176]"
   ]
  },
  {
   "cell_type": "markdown",
   "id": "5a787732",
   "metadata": {},
   "source": [
    "# WO Battery"
   ]
  },
  {
   "cell_type": "code",
   "execution_count": 3,
   "id": "640100c2",
   "metadata": {},
   "outputs": [],
   "source": [
    "def wo_battery(ds):\n",
    "\tcost = 0\n",
    "\tcurr_ds = ds[0]\n",
    "\tprosumption = curr_ds['prosumption']\n",
    "\tprice = curr_ds['price']\n",
    "\tfor j in range(1344):\n",
    "\n",
    "\t\tcost  += prosumption[j] * price[j] if prosumption[j]>=0 else prosumption[j]*0.1\n",
    "\treturn cost"
   ]
  },
  {
   "cell_type": "markdown",
   "id": "aa83ae56",
   "metadata": {},
   "source": [
    "# Gurobi Optimizer"
   ]
  },
  {
   "cell_type": "code",
   "execution_count": 4,
   "id": "87642c27",
   "metadata": {},
   "outputs": [],
   "source": [
    "def opti(ds):\n",
    "\tfinal_cost = 0.0\n",
    "\t# for i in range(51):\n",
    "\tcurr_ds = ds[0]\n",
    "\tprosumption = curr_ds['prosumption']\n",
    "\tprice = curr_ds['price']\n",
    "\tT=1344\n",
    "\tmax_charge = max_power/2\n",
    "\tmax_discharge = -max_power/2\n",
    "\tbig_M = 1e4  # A sufficiently large number\n",
    "\n",
    "\t# Create model\n",
    "\tmodel = gp.Model(\"BatteryCharging\")\n",
    "\tmodel.Params.OutputFlag = 0\n",
    "\n",
    "\t# Variables\n",
    "\taction = model.addVars(T, lb=max_discharge.item(), ub=max_charge.item(), name=\"action\")\n",
    "\tsoe = model.addVars(T + 1, lb=0.0, ub=battery_capacity.item(), name=\"soe\")\n",
    "\tz = model.addVars(T, lb=-1.0, ub=5.0, vtype=GRB.CONTINUOUS, name='actual_price')\n",
    "\tb = model.addVars(T, vtype=GRB.BINARY, name=\"b\")\n",
    "\n",
    "\t# Initial SoE\n",
    "\tmodel.addConstr(soe[0] == 0.0, name=\"initial_soe\")\n",
    "\n",
    "\teps = 0.0001\n",
    "\tM = 200 + eps\n",
    "\n",
    "\tfor t in range(T):\n",
    "\t\t# Battery dynamics\n",
    "\t\tmodel.addConstr(soe[t + 1] == soe[t] + action[t], name=f\"soe_update_{t}\")\n",
    "\t\tmodel.addConstr(action[t]+prosumption[t] >= 0 + eps - M * (1 - b[t]), name=\"bigM_constr1\")\n",
    "\t\tmodel.addConstr(action[t]+prosumption[t] <= 0 + M * b[t], name=\"bigM_constr2\")\n",
    "\n",
    "\t\t# Add indicator constraints\n",
    "\t\tmodel.addConstr((b[t] == 1) >> (z[t] == price[t]), name=\"indicator_constr1\")\n",
    "\t\tmodel.addConstr((b[t] == 0) >> (z[t] == 0.1), name=\"indicator_constr2\")\n",
    "\n",
    "\n",
    "\n",
    "\t# Objective function: minimize cost\n",
    "\tobj = gp.quicksum(\n",
    "\t\t(prosumption[t] + action[t]) * z[t]\n",
    "\t\tfor t in range(T)\n",
    "\t)\n",
    "\tmodel.setObjective(obj, GRB.MINIMIZE)\n",
    "\n",
    "\t# Optimize\n",
    "\tmodel.optimize()\n",
    "\n",
    "\tif model.status == GRB.OPTIMAL:\n",
    "\t\tactions = [action[t].X for t in range(T)]\n",
    "\t\tsoes = [soe[t].X for t in range(T+1)]\n",
    "\t\tused_price = [z[t].X for t in range(T)]\n",
    "\t\tfor t in range(T):\n",
    "\t\t\tcurr_price = price[t] if (prosumption[t]+actions[t]) >= 0 else 0.1\n",
    "\t\t\tfinal_cost += (prosumption[t]+actions[t])*curr_price\n",
    "\n",
    "\treturn final_cost, soes"
   ]
  },
  {
   "cell_type": "code",
   "execution_count": 5,
   "id": "6b5aadbd",
   "metadata": {},
   "outputs": [
    {
     "name": "stdout",
     "output_type": "stream",
     "text": [
      "Battery capacity: 6.0 kWh, Max power: 1.5 kW\n",
      "Cost without battery: 230.64524841308594\n",
      "Set parameter Username\n",
      "Set parameter LicenseID to value 2650516\n",
      "Academic license - for non-commercial use only - expires 2026-04-11\n",
      "Optimal cost: 181.72152709960938\n"
     ]
    }
   ],
   "source": [
    "# for b_id in building_ids:\n",
    "for b_id in [13]:\n",
    "\tds = OnlineDataset(raw_data_path='../data/1_processed',\n",
    "\t\t\t\t\tsliding_window_size=1344,\n",
    "\t\t\t\t\tsliding_window_offset=1344,\n",
    "\t\t\t\t\tforecast_size=0,\n",
    "\t\t\t\t\tbuilding_id=b_id,\n",
    "\t\t\t\t\tmode='test',\n",
    "\t\t\t\t\tdevice='cpu')\n",
    "\tbattery_capacity = ds.getBatteryCapacity()\n",
    "\tmax_power = ds.getBatteryCapacity()/4\n",
    "\tprint(f'Battery capacity: {battery_capacity} kWh, Max power: {max_power} kW')\n",
    "\tprint(f'Cost without battery: {wo_battery(ds)}')\n",
    "\tmilp, soes = opti(ds)\n",
    "\tprint(f'Optimal cost: {milp}')"
   ]
  },
  {
   "cell_type": "code",
   "execution_count": 6,
   "id": "a7c2ad49",
   "metadata": {},
   "outputs": [
    {
     "data": {
      "application/vnd.plotly.v1+json": {
       "config": {
        "plotlyServerURL": "https://plot.ly"
       },
       "data": [
        {
         "hovertemplate": "variable=0<br>index=%{x}<br>value=%{y}<extra></extra>",
         "legendgroup": "0",
         "line": {
          "color": "#636efa",
          "dash": "solid"
         },
         "marker": {
          "symbol": "circle"
         },
         "mode": "lines",
         "name": "0",
         "showlegend": true,
         "type": "scattergl",
         "x": {
          "bdata": "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",
          "dtype": "i2"
         },
         "xaxis": "x",
         "y": {
          "bdata": "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",
          "dtype": "f8"
         },
         "yaxis": "y"
        }
       ],
       "layout": {
        "legend": {
         "title": {
          "text": ""
         },
         "tracegroupgap": 0
        },
        "margin": {
         "b": 10,
         "l": 10,
         "r": 10,
         "t": 30
        },
        "template": {
         "data": {
          "bar": [
           {
            "error_x": {
             "color": "#2a3f5f"
            },
            "error_y": {
             "color": "#2a3f5f"
            },
            "marker": {
             "line": {
              "color": "white",
              "width": 0.5
             },
             "pattern": {
              "fillmode": "overlay",
              "size": 10,
              "solidity": 0.2
             }
            },
            "type": "bar"
           }
          ],
          "barpolar": [
           {
            "marker": {
             "line": {
              "color": "white",
              "width": 0.5
             },
             "pattern": {
              "fillmode": "overlay",
              "size": 10,
              "solidity": 0.2
             }
            },
            "type": "barpolar"
           }
          ],
          "carpet": [
           {
            "aaxis": {
             "endlinecolor": "#2a3f5f",
             "gridcolor": "#C8D4E3",
             "linecolor": "#C8D4E3",
             "minorgridcolor": "#C8D4E3",
             "startlinecolor": "#2a3f5f"
            },
            "baxis": {
             "endlinecolor": "#2a3f5f",
             "gridcolor": "#C8D4E3",
             "linecolor": "#C8D4E3",
             "minorgridcolor": "#C8D4E3",
             "startlinecolor": "#2a3f5f"
            },
            "type": "carpet"
           }
          ],
          "choropleth": [
           {
            "colorbar": {
             "outlinewidth": 0,
             "ticks": ""
            },
            "type": "choropleth"
           }
          ],
          "contour": [
           {
            "colorbar": {
             "outlinewidth": 0,
             "ticks": ""
            },
            "colorscale": [
             [
              0,
              "#0d0887"
             ],
             [
              0.1111111111111111,
              "#46039f"
             ],
             [
              0.2222222222222222,
              "#7201a8"
             ],
             [
              0.3333333333333333,
              "#9c179e"
             ],
             [
              0.4444444444444444,
              "#bd3786"
             ],
             [
              0.5555555555555556,
              "#d8576b"
             ],
             [
              0.6666666666666666,
              "#ed7953"
             ],
             [
              0.7777777777777778,
              "#fb9f3a"
             ],
             [
              0.8888888888888888,
              "#fdca26"
             ],
             [
              1,
              "#f0f921"
             ]
            ],
            "type": "contour"
           }
          ],
          "contourcarpet": [
           {
            "colorbar": {
             "outlinewidth": 0,
             "ticks": ""
            },
            "type": "contourcarpet"
           }
          ],
          "heatmap": [
           {
            "colorbar": {
             "outlinewidth": 0,
             "ticks": ""
            },
            "colorscale": [
             [
              0,
              "#0d0887"
             ],
             [
              0.1111111111111111,
              "#46039f"
             ],
             [
              0.2222222222222222,
              "#7201a8"
             ],
             [
              0.3333333333333333,
              "#9c179e"
             ],
             [
              0.4444444444444444,
              "#bd3786"
             ],
             [
              0.5555555555555556,
              "#d8576b"
             ],
             [
              0.6666666666666666,
              "#ed7953"
             ],
             [
              0.7777777777777778,
              "#fb9f3a"
             ],
             [
              0.8888888888888888,
              "#fdca26"
             ],
             [
              1,
              "#f0f921"
             ]
            ],
            "type": "heatmap"
           }
          ],
          "histogram": [
           {
            "marker": {
             "pattern": {
              "fillmode": "overlay",
              "size": 10,
              "solidity": 0.2
             }
            },
            "type": "histogram"
           }
          ],
          "histogram2d": [
           {
            "colorbar": {
             "outlinewidth": 0,
             "ticks": ""
            },
            "colorscale": [
             [
              0,
              "#0d0887"
             ],
             [
              0.1111111111111111,
              "#46039f"
             ],
             [
              0.2222222222222222,
              "#7201a8"
             ],
             [
              0.3333333333333333,
              "#9c179e"
             ],
             [
              0.4444444444444444,
              "#bd3786"
             ],
             [
              0.5555555555555556,
              "#d8576b"
             ],
             [
              0.6666666666666666,
              "#ed7953"
             ],
             [
              0.7777777777777778,
              "#fb9f3a"
             ],
             [
              0.8888888888888888,
              "#fdca26"
             ],
             [
              1,
              "#f0f921"
             ]
            ],
            "type": "histogram2d"
           }
          ],
          "histogram2dcontour": [
           {
            "colorbar": {
             "outlinewidth": 0,
             "ticks": ""
            },
            "colorscale": [
             [
              0,
              "#0d0887"
             ],
             [
              0.1111111111111111,
              "#46039f"
             ],
             [
              0.2222222222222222,
              "#7201a8"
             ],
             [
              0.3333333333333333,
              "#9c179e"
             ],
             [
              0.4444444444444444,
              "#bd3786"
             ],
             [
              0.5555555555555556,
              "#d8576b"
             ],
             [
              0.6666666666666666,
              "#ed7953"
             ],
             [
              0.7777777777777778,
              "#fb9f3a"
             ],
             [
              0.8888888888888888,
              "#fdca26"
             ],
             [
              1,
              "#f0f921"
             ]
            ],
            "type": "histogram2dcontour"
           }
          ],
          "mesh3d": [
           {
            "colorbar": {
             "outlinewidth": 0,
             "ticks": ""
            },
            "type": "mesh3d"
           }
          ],
          "parcoords": [
           {
            "line": {
             "colorbar": {
              "outlinewidth": 0,
              "ticks": ""
             }
            },
            "type": "parcoords"
           }
          ],
          "pie": [
           {
            "automargin": true,
            "type": "pie"
           }
          ],
          "scatter": [
           {
            "fillpattern": {
             "fillmode": "overlay",
             "size": 10,
             "solidity": 0.2
            },
            "type": "scatter"
           }
          ],
          "scatter3d": [
           {
            "line": {
             "colorbar": {
              "outlinewidth": 0,
              "ticks": ""
             }
            },
            "marker": {
             "colorbar": {
              "outlinewidth": 0,
              "ticks": ""
             }
            },
            "type": "scatter3d"
           }
          ],
          "scattercarpet": [
           {
            "marker": {
             "colorbar": {
              "outlinewidth": 0,
              "ticks": ""
             }
            },
            "type": "scattercarpet"
           }
          ],
          "scattergeo": [
           {
            "marker": {
             "colorbar": {
              "outlinewidth": 0,
              "ticks": ""
             }
            },
            "type": "scattergeo"
           }
          ],
          "scattergl": [
           {
            "marker": {
             "colorbar": {
              "outlinewidth": 0,
              "ticks": ""
             }
            },
            "type": "scattergl"
           }
          ],
          "scattermap": [
           {
            "marker": {
             "colorbar": {
              "outlinewidth": 0,
              "ticks": ""
             }
            },
            "type": "scattermap"
           }
          ],
          "scattermapbox": [
           {
            "marker": {
             "colorbar": {
              "outlinewidth": 0,
              "ticks": ""
             }
            },
            "type": "scattermapbox"
           }
          ],
          "scatterpolar": [
           {
            "marker": {
             "colorbar": {
              "outlinewidth": 0,
              "ticks": ""
             }
            },
            "type": "scatterpolar"
           }
          ],
          "scatterpolargl": [
           {
            "marker": {
             "colorbar": {
              "outlinewidth": 0,
              "ticks": ""
             }
            },
            "type": "scatterpolargl"
           }
          ],
          "scatterternary": [
           {
            "marker": {
             "colorbar": {
              "outlinewidth": 0,
              "ticks": ""
             }
            },
            "type": "scatterternary"
           }
          ],
          "surface": [
           {
            "colorbar": {
             "outlinewidth": 0,
             "ticks": ""
            },
            "colorscale": [
             [
              0,
              "#0d0887"
             ],
             [
              0.1111111111111111,
              "#46039f"
             ],
             [
              0.2222222222222222,
              "#7201a8"
             ],
             [
              0.3333333333333333,
              "#9c179e"
             ],
             [
              0.4444444444444444,
              "#bd3786"
             ],
             [
              0.5555555555555556,
              "#d8576b"
             ],
             [
              0.6666666666666666,
              "#ed7953"
             ],
             [
              0.7777777777777778,
              "#fb9f3a"
             ],
             [
              0.8888888888888888,
              "#fdca26"
             ],
             [
              1,
              "#f0f921"
             ]
            ],
            "type": "surface"
           }
          ],
          "table": [
           {
            "cells": {
             "fill": {
              "color": "#EBF0F8"
             },
             "line": {
              "color": "white"
             }
            },
            "header": {
             "fill": {
              "color": "#C8D4E3"
             },
             "line": {
              "color": "white"
             }
            },
            "type": "table"
           }
          ]
         },
         "layout": {
          "annotationdefaults": {
           "arrowcolor": "#2a3f5f",
           "arrowhead": 0,
           "arrowwidth": 1
          },
          "autotypenumbers": "strict",
          "coloraxis": {
           "colorbar": {
            "outlinewidth": 0,
            "ticks": ""
           }
          },
          "colorscale": {
           "diverging": [
            [
             0,
             "#8e0152"
            ],
            [
             0.1,
             "#c51b7d"
            ],
            [
             0.2,
             "#de77ae"
            ],
            [
             0.3,
             "#f1b6da"
            ],
            [
             0.4,
             "#fde0ef"
            ],
            [
             0.5,
             "#f7f7f7"
            ],
            [
             0.6,
             "#e6f5d0"
            ],
            [
             0.7,
             "#b8e186"
            ],
            [
             0.8,
             "#7fbc41"
            ],
            [
             0.9,
             "#4d9221"
            ],
            [
             1,
             "#276419"
            ]
           ],
           "sequential": [
            [
             0,
             "#0d0887"
            ],
            [
             0.1111111111111111,
             "#46039f"
            ],
            [
             0.2222222222222222,
             "#7201a8"
            ],
            [
             0.3333333333333333,
             "#9c179e"
            ],
            [
             0.4444444444444444,
             "#bd3786"
            ],
            [
             0.5555555555555556,
             "#d8576b"
            ],
            [
             0.6666666666666666,
             "#ed7953"
            ],
            [
             0.7777777777777778,
             "#fb9f3a"
            ],
            [
             0.8888888888888888,
             "#fdca26"
            ],
            [
             1,
             "#f0f921"
            ]
           ],
           "sequentialminus": [
            [
             0,
             "#0d0887"
            ],
            [
             0.1111111111111111,
             "#46039f"
            ],
            [
             0.2222222222222222,
             "#7201a8"
            ],
            [
             0.3333333333333333,
             "#9c179e"
            ],
            [
             0.4444444444444444,
             "#bd3786"
            ],
            [
             0.5555555555555556,
             "#d8576b"
            ],
            [
             0.6666666666666666,
             "#ed7953"
            ],
            [
             0.7777777777777778,
             "#fb9f3a"
            ],
            [
             0.8888888888888888,
             "#fdca26"
            ],
            [
             1,
             "#f0f921"
            ]
           ]
          },
          "colorway": [
           "#636efa",
           "#EF553B",
           "#00cc96",
           "#ab63fa",
           "#FFA15A",
           "#19d3f3",
           "#FF6692",
           "#B6E880",
           "#FF97FF",
           "#FECB52"
          ],
          "font": {
           "color": "#2a3f5f"
          },
          "geo": {
           "bgcolor": "white",
           "lakecolor": "white",
           "landcolor": "white",
           "showlakes": true,
           "showland": true,
           "subunitcolor": "#C8D4E3"
          },
          "hoverlabel": {
           "align": "left"
          },
          "hovermode": "closest",
          "mapbox": {
           "style": "light"
          },
          "paper_bgcolor": "white",
          "plot_bgcolor": "white",
          "polar": {
           "angularaxis": {
            "gridcolor": "#EBF0F8",
            "linecolor": "#EBF0F8",
            "ticks": ""
           },
           "bgcolor": "white",
           "radialaxis": {
            "gridcolor": "#EBF0F8",
            "linecolor": "#EBF0F8",
            "ticks": ""
           }
          },
          "scene": {
           "xaxis": {
            "backgroundcolor": "white",
            "gridcolor": "#DFE8F3",
            "gridwidth": 2,
            "linecolor": "#EBF0F8",
            "showbackground": true,
            "ticks": "",
            "zerolinecolor": "#EBF0F8"
           },
           "yaxis": {
            "backgroundcolor": "white",
            "gridcolor": "#DFE8F3",
            "gridwidth": 2,
            "linecolor": "#EBF0F8",
            "showbackground": true,
            "ticks": "",
            "zerolinecolor": "#EBF0F8"
           },
           "zaxis": {
            "backgroundcolor": "white",
            "gridcolor": "#DFE8F3",
            "gridwidth": 2,
            "linecolor": "#EBF0F8",
            "showbackground": true,
            "ticks": "",
            "zerolinecolor": "#EBF0F8"
           }
          },
          "shapedefaults": {
           "line": {
            "color": "#2a3f5f"
           }
          },
          "ternary": {
           "aaxis": {
            "gridcolor": "#DFE8F3",
            "linecolor": "#A2B1C6",
            "ticks": ""
           },
           "baxis": {
            "gridcolor": "#DFE8F3",
            "linecolor": "#A2B1C6",
            "ticks": ""
           },
           "bgcolor": "white",
           "caxis": {
            "gridcolor": "#DFE8F3",
            "linecolor": "#A2B1C6",
            "ticks": ""
           }
          },
          "title": {
           "x": 0.05
          },
          "xaxis": {
           "automargin": true,
           "gridcolor": "#EBF0F8",
           "linecolor": "#EBF0F8",
           "ticks": "",
           "title": {
            "standoff": 15
           },
           "zerolinecolor": "#EBF0F8",
           "zerolinewidth": 2
          },
          "yaxis": {
           "automargin": true,
           "gridcolor": "#EBF0F8",
           "linecolor": "#EBF0F8",
           "ticks": "",
           "title": {
            "standoff": 15
           },
           "zerolinecolor": "#EBF0F8",
           "zerolinewidth": 2
          }
         }
        },
        "title": {
         "text": "Customer 13"
        },
        "width": 600,
        "xaxis": {
         "anchor": "y",
         "domain": [
          0,
          1
         ],
         "dtick": 6,
         "title": {
          "text": "index"
         }
        },
        "yaxis": {
         "anchor": "x",
         "domain": [
          0,
          1
         ],
         "title": {
          "text": "Power [kW]"
         }
        }
       }
      }
     },
     "metadata": {},
     "output_type": "display_data"
    }
   ],
   "source": [
    "import plotly.express as px\n",
    "fig = px.line(soes, title=f'Customer 13')\n",
    "fig.update_layout(\n",
    "\tyaxis_title=\"Power [kW]\",\n",
    "\ttemplate=\"plotly_white\",\n",
    "\twidth=600,\n",
    "\tmargin=dict(l=10, r=10, t=30, b=10),\n",
    "\txaxis=dict(dtick=6),\n",
    "\tlegend_title_text=\"\"\n",
    ")\n",
    "fig.show()"
   ]
  },
  {
   "cell_type": "code",
   "execution_count": 7,
   "id": "f0a596a8",
   "metadata": {},
   "outputs": [
    {
     "ename": "NameError",
     "evalue": "name 'price' is not defined",
     "output_type": "error",
     "traceback": [
      "\u001b[31m---------------------------------------------------------------------------\u001b[39m",
      "\u001b[31mNameError\u001b[39m                                 Traceback (most recent call last)",
      "\u001b[36mCell\u001b[39m\u001b[36m \u001b[39m\u001b[32mIn[7]\u001b[39m\u001b[32m, line 1\u001b[39m\n\u001b[32m----> \u001b[39m\u001b[32m1\u001b[39m fig = px.line(\u001b[43mprice\u001b[49m, title=\u001b[33mf\u001b[39m\u001b[33m'\u001b[39m\u001b[33mCustomer 13\u001b[39m\u001b[33m'\u001b[39m)\n\u001b[32m      2\u001b[39m fig.update_layout(\n\u001b[32m      3\u001b[39m \tyaxis_title=\u001b[33m\"\u001b[39m\u001b[33mPower [kW]\u001b[39m\u001b[33m\"\u001b[39m,\n\u001b[32m      4\u001b[39m \ttemplate=\u001b[33m\"\u001b[39m\u001b[33mplotly_white\u001b[39m\u001b[33m\"\u001b[39m,\n\u001b[32m   (...)\u001b[39m\u001b[32m      8\u001b[39m \tlegend_title_text=\u001b[33m\"\u001b[39m\u001b[33m\"\u001b[39m\n\u001b[32m      9\u001b[39m )\n\u001b[32m     10\u001b[39m fig.show()\n",
      "\u001b[31mNameError\u001b[39m: name 'price' is not defined"
     ]
    }
   ],
   "source": [
    "fig = px.line(price, title=f'Customer 13')\n",
    "fig.update_layout(\n",
    "\tyaxis_title=\"Power [kW]\",\n",
    "\ttemplate=\"plotly_white\",\n",
    "\twidth=600,\n",
    "\tmargin=dict(l=10, r=10, t=30, b=10),\n",
    "\txaxis=dict(dtick=6),\n",
    "\tlegend_title_text=\"\"\n",
    ")\n",
    "fig.show()"
   ]
  }
 ],
 "metadata": {
  "kernelspec": {
   "display_name": "dtkd",
   "language": "python",
   "name": "python3"
  },
  "language_info": {
   "codemirror_mode": {
    "name": "ipython",
    "version": 3
   },
   "file_extension": ".py",
   "mimetype": "text/x-python",
   "name": "python",
   "nbconvert_exporter": "python",
   "pygments_lexer": "ipython3",
   "version": "3.13.3"
  }
 },
 "nbformat": 4,
 "nbformat_minor": 5
}
