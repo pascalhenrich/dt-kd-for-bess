{
 "cells": [
  {
   "cell_type": "code",
   "execution_count": 1,
   "id": "b232cc3e",
   "metadata": {},
   "outputs": [],
   "source": [
    "import os\n",
    "import gurobipy as gp\n",
    "from gurobipy import GRB\n",
    "import numpy as np\n",
    "import pandas as pd\n",
    "from torch.utils.data import DataLoader\n",
    "import matplotlib.pyplot as plt\n",
    "import seaborn as sns\n",
    "\n",
    "from dataset.OnlineDataset import EnergyDataset\n",
    "import torch"
   ]
  },
  {
   "cell_type": "code",
   "execution_count": 23,
   "id": "a0807925",
   "metadata": {},
   "outputs": [],
   "source": [
    "ds = EnergyDataset(raw_data_path='../data/1_processed',\n",
    "                   sliding_window_size=336,\n",
    "                   sliding_window_offset=336,\n",
    "                   forecast_size=0,\n",
    "                   customer=13,\n",
    "                   mode='eval',\n",
    "                   device='cpu')\n",
    "\n",
    "# prosumption = torch.tensor([])\n",
    "# price = torch.tensor([])\n",
    "# for i in range(0,1):\n",
    "#     prosumption = torch.cat([prosumption, ds[i]['prosumption']])\n",
    "#     price = torch.cat([price, ds[i]['price']])\n",
    "# T = len(prosumption)"
   ]
  },
  {
   "cell_type": "code",
   "execution_count": null,
   "id": "2344d4f3",
   "metadata": {},
   "outputs": [
    {
     "name": "stdout",
     "output_type": "stream",
     "text": [
      "TensorDict(\n",
      "    fields={\n",
      "        load: Tensor(shape=torch.Size([336]), device=cpu, dtype=torch.float32, is_shared=False),\n",
      "        price: Tensor(shape=torch.Size([336]), device=cpu, dtype=torch.float32, is_shared=False),\n",
      "        prosumption: Tensor(shape=torch.Size([336]), device=cpu, dtype=torch.float32, is_shared=False),\n",
      "        pv: Tensor(shape=torch.Size([336]), device=cpu, dtype=torch.float32, is_shared=False)},\n",
      "    batch_size=torch.Size([336]),\n",
      "    device=cpu,\n",
      "    is_shared=False)\n"
     ]
    }
   ],
   "source": [
    "ds[50]"
   ]
  },
  {
   "cell_type": "markdown",
   "id": "5a787732",
   "metadata": {},
   "source": [
    "# WO Battery"
   ]
  },
  {
   "cell_type": "code",
   "execution_count": 24,
   "id": "640100c2",
   "metadata": {},
   "outputs": [
    {
     "data": {
      "text/plain": [
       "tensor(1000.6298)"
      ]
     },
     "execution_count": 24,
     "metadata": {},
     "output_type": "execute_result"
    }
   ],
   "source": [
    "cost = 0\n",
    "\n",
    "for i in range(51):\n",
    "    curr_ds = ds[i]\n",
    "    prosumption = curr_ds['prosumption']\n",
    "    price = curr_ds['price']\n",
    "    for j in range(336):\n",
    "\n",
    "        cost  += prosumption[j] * price[j] if prosumption[j]>=0 else prosumption[j]*0.1\n",
    "cost"
   ]
  },
  {
   "cell_type": "markdown",
   "id": "aa83ae56",
   "metadata": {},
   "source": [
    "# Gurobi Optimizer"
   ]
  },
  {
   "cell_type": "code",
   "execution_count": 25,
   "id": "87642c27",
   "metadata": {},
   "outputs": [
    {
     "name": "stdout",
     "output_type": "stream",
     "text": [
      "Set parameter OutputFlag to value 1\n",
      "Gurobi Optimizer version 12.0.3 build v12.0.3rc0 (linux64 - \"Ubuntu 22.04.5 LTS\")\n",
      "\n",
      "CPU model: AMD Ryzen 7 3700X 8-Core Processor, instruction set [SSE2|AVX|AVX2]\n",
      "Thread count: 8 physical cores, 16 logical processors, using up to 16 threads\n",
      "\n"
     ]
    },
    {
     "ename": "GurobiError",
     "evalue": "Model too large for size-limited license; visit https://gurobi.com/unrestricted for more information",
     "output_type": "error",
     "traceback": [
      "\u001b[31m---------------------------------------------------------------------------\u001b[39m",
      "\u001b[31mGurobiError\u001b[39m                               Traceback (most recent call last)",
      "\u001b[36mCell\u001b[39m\u001b[36m \u001b[39m\u001b[32mIn[25]\u001b[39m\u001b[32m, line 46\u001b[39m\n\u001b[32m     43\u001b[39m model.setObjective(obj, GRB.MINIMIZE)\n\u001b[32m     45\u001b[39m \u001b[38;5;66;03m# Optimize\u001b[39;00m\n\u001b[32m---> \u001b[39m\u001b[32m46\u001b[39m \u001b[43mmodel\u001b[49m\u001b[43m.\u001b[49m\u001b[43moptimize\u001b[49m\u001b[43m(\u001b[49m\u001b[43m)\u001b[49m\n\u001b[32m     48\u001b[39m \u001b[38;5;28;01mif\u001b[39;00m model.status == GRB.OPTIMAL:\n\u001b[32m     49\u001b[39m     final_cost = \u001b[32m0.0\u001b[39m\n",
      "\u001b[36mFile \u001b[39m\u001b[32msrc/gurobipy/_model.pyx:903\u001b[39m, in \u001b[36mgurobipy._model.Model.optimize\u001b[39m\u001b[34m()\u001b[39m\n",
      "\u001b[31mGurobiError\u001b[39m: Model too large for size-limited license; visit https://gurobi.com/unrestricted for more information"
     ]
    }
   ],
   "source": [
    "curr_ds = ds[0]\n",
    "prosumption = curr_ds['prosumption']\n",
    "price = curr_ds['price']\n",
    "T=336\n",
    "max_charge = 1.25\n",
    "max_discharge = -1.25\n",
    "battery_capacity = 10.0\n",
    "big_M = 1e4  # A sufficiently large number\n",
    "\n",
    "# Create model\n",
    "model = gp.Model(\"BatteryCharging\")\n",
    "model.Params.OutputFlag = 1\n",
    "\n",
    "# Variables\n",
    "action = model.addVars(T, lb=max_discharge, ub=max_charge, name=\"action\")\n",
    "soe = model.addVars(T + 1, lb=0.0, ub=battery_capacity, name=\"soe\")\n",
    "z = model.addVars(T, lb=0.0, ub=10, vtype=GRB.CONTINUOUS, name='actual_price')\n",
    "b = model.addVars(T, vtype=GRB.BINARY, name=\"b\")\n",
    "\n",
    "# Initial SoE\n",
    "model.addConstr(soe[0] == 0.0, name=\"initial_soe\")\n",
    "\n",
    "eps = 0.0001\n",
    "M = 20 + eps\n",
    "\n",
    "for t in range(T):\n",
    "    # Battery dynamics\n",
    "    model.addConstr(soe[t + 1] == soe[t] + action[t], name=f\"soe_update_{t}\")\n",
    "    model.addConstr(action[t]+prosumption[t] >= 0 + eps - M * (1 - b[t]), name=\"bigM_constr1\")\n",
    "    model.addConstr(action[t]+prosumption[t] <= 0 + M * b[t], name=\"bigM_constr2\")\n",
    "\n",
    "    # Add indicator constraints\n",
    "    model.addConstr((b[t] == 1) >> (z[t] == price[t]), name=\"indicator_constr1\")\n",
    "    model.addConstr((b[t] == 0) >> (z[t] == 0.1), name=\"indicator_constr2\")\n",
    "\n",
    "\n",
    "\n",
    "# Objective function: minimize cost\n",
    "obj = gp.quicksum(\n",
    "    (prosumption[t] + action[t]) * z[t]\n",
    "    for t in range(T)\n",
    ")\n",
    "model.setObjective(obj, GRB.MINIMIZE)\n",
    "\n",
    "# Optimize\n",
    "model.optimize()\n",
    "\n",
    "if model.status == GRB.OPTIMAL:\n",
    "    final_cost = 0.0\n",
    "    actions = [action[t].X for t in range(T)]\n",
    "    soes = [soe[t].X for t in range(T+1)]\n",
    "    used_price = [z[t].X for t in range(T)]\n",
    "    for t in range(T):\n",
    "        curr_price = price[t] if (prosumption[t]+actions[t]) >= 0 else 0.1\n",
    "        final_cost += (prosumption[t]+actions[t])*curr_price\n",
    "\n",
    "    print(f'final cost: {final_cost}')"
   ]
  }
 ],
 "metadata": {
  "kernelspec": {
   "display_name": "dtkd",
   "language": "python",
   "name": "python3"
  },
  "language_info": {
   "codemirror_mode": {
    "name": "ipython",
    "version": 3
   },
   "file_extension": ".py",
   "mimetype": "text/x-python",
   "name": "python",
   "nbconvert_exporter": "python",
   "pygments_lexer": "ipython3",
   "version": "3.13.3"
  }
 },
 "nbformat": 4,
 "nbformat_minor": 5
}
