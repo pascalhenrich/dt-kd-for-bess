{
 "cells": [
  {
   "cell_type": "code",
   "execution_count": 1,
   "id": "b232cc3e",
   "metadata": {},
   "outputs": [],
   "source": [
    "import os\n",
    "import gurobipy as gp\n",
    "from gurobipy import GRB\n",
    "import numpy as np\n",
    "import pandas as pd\n",
    "from torch.utils.data import DataLoader\n",
    "import matplotlib.pyplot as plt\n",
    "import seaborn as sns\n",
    "\n",
    "from dataset.OnlineDataset import EnergyDataset\n",
    "import torch"
   ]
  },
  {
   "cell_type": "code",
   "execution_count": null,
   "id": "a0807925",
   "metadata": {},
   "outputs": [],
   "source": [
    "ds = EnergyDataset('../data/1_processed',48,1,'eval')\n",
    "\n",
    "prosumption = torch.tensor([])\n",
    "price = torch.tensor([])\n",
    "for i in range(0,1):\n",
    "    prosumption = torch.cat([prosumption, ds[i]['prosumption']])\n",
    "    price = torch.cat([price, ds[i]['price']])\n",
    "T = len(prosumption)"
   ]
  },
  {
   "cell_type": "markdown",
   "id": "5a787732",
   "metadata": {},
   "source": [
    "# WO Battery"
   ]
  },
  {
   "cell_type": "code",
   "execution_count": 12,
   "id": "640100c2",
   "metadata": {},
   "outputs": [
    {
     "name": "stdout",
     "output_type": "stream",
     "text": [
      "tensor(3.4202)\n"
     ]
    }
   ],
   "source": [
    "cost = 0\n",
    "for t in range(T):\n",
    "    cost += prosumption[t]*price[t] if prosumption[t]>=0 else prosumption[t]*0.1\n",
    "\n",
    "print(cost)"
   ]
  },
  {
   "cell_type": "markdown",
   "id": "aa83ae56",
   "metadata": {},
   "source": [
    "# Gurobi Optimizer"
   ]
  },
  {
   "cell_type": "code",
   "execution_count": null,
   "id": "87642c27",
   "metadata": {},
   "outputs": [
    {
     "name": "stdout",
     "output_type": "stream",
     "text": [
      "Set parameter OutputFlag to value 1\n",
      "Gurobi Optimizer version 12.0.2 build v12.0.2rc0 (win64 - Windows 11.0 (26100.2))\n",
      "\n",
      "CPU model: AMD Ryzen 7 3700X 8-Core Processor, instruction set [SSE2|AVX|AVX2]\n",
      "Thread count: 8 physical cores, 16 logical processors, using up to 16 threads\n",
      "\n",
      "Optimize a model with 145 rows, 193 columns and 337 nonzeros\n",
      "Model fingerprint: 0x870f5cb3\n",
      "Model has 48 quadratic objective terms\n",
      "Model has 96 simple general constraints\n",
      "  96 INDICATOR\n",
      "Variable types: 145 continuous, 48 integer (48 binary)\n",
      "Coefficient statistics:\n",
      "  Matrix range     [1e+00, 2e+01]\n",
      "  Objective range  [4e-03, 2e+00]\n",
      "  QObjective range [2e+00, 2e+00]\n",
      "  Bounds range     [1e+00, 1e+01]\n",
      "  RHS range        [4e-03, 2e+01]\n",
      "  GenCon rhs range [1e-01, 4e-01]\n",
      "  GenCon coe range [1e+00, 1e+00]\n",
      "Presolve removed 7 rows and 54 columns\n",
      "Presolve time: 0.01s\n",
      "Presolved: 184 rows, 185 columns, 460 nonzeros\n",
      "Variable types: 139 continuous, 46 integer (46 binary)\n",
      "Found heuristic solution: objective 2.3390627\n",
      "\n",
      "Root relaxation: objective -3.214143e+00, 89 iterations, 0.00 seconds (0.00 work units)\n",
      "\n",
      "    Nodes    |    Current Node    |     Objective Bounds      |     Work\n",
      " Expl Unexpl |  Obj  Depth IntInf | Incumbent    BestBd   Gap | It/Node Time\n",
      "\n",
      "     0     0   -3.21414    0   46    2.33906   -3.21414   237%     -    0s\n",
      "H    0     0                       2.3390605   -3.21414   237%     -    0s\n",
      "     0     0    1.40626    0   14    2.33906    1.40626  39.9%     -    0s\n",
      "H    0     0                       2.2940251    1.51044  34.2%     -    0s\n",
      "     0     0    1.51044    0   14    2.29403    1.51044  34.2%     -    0s\n",
      "     0     0          -    0         2.29403    2.29400  0.00%     -    0s\n",
      "\n",
      "Cutting planes:\n",
      "  Learned: 45\n",
      "  Gomory: 3\n",
      "  Implied bound: 4\n",
      "  MIR: 31\n",
      "\n",
      "Explored 1 nodes (224 simplex iterations) in 0.04 seconds (0.01 work units)\n",
      "Thread count was 16 (of 16 available processors)\n",
      "\n",
      "Solution count 3: 2.29403 2.33906 2.33906 \n",
      "\n",
      "Optimal solution found (tolerance 1.00e-04)\n",
      "Best objective 2.294025143903e+00, best bound 2.294001803904e+00, gap 0.0010%\n",
      "final cost: 2.294025182723999\n"
     ]
    }
   ],
   "source": [
    "\n",
    "max_charge = 1.25\n",
    "max_discharge = -1.25\n",
    "battery_capacity = 10.0\n",
    "big_M = 1e4  # A sufficiently large number\n",
    "\n",
    "# Create model\n",
    "model = gp.Model(\"BatteryCharging\")\n",
    "model.Params.OutputFlag = 1\n",
    "\n",
    "# Variables\n",
    "action = model.addVars(T, lb=max_discharge, ub=max_charge, name=\"action\")\n",
    "soe = model.addVars(T + 1, lb=0.0, ub=battery_capacity, name=\"soe\")\n",
    "z = model.addVars(T, lb=0.0, ub=10, vtype=GRB.CONTINUOUS, name='actual_price')\n",
    "b = model.addVars(T, vtype=GRB.BINARY, name=\"b\")\n",
    "\n",
    "# Initial SoE\n",
    "model.addConstr(soe[0] == 0.0, name=\"initial_soe\")\n",
    "\n",
    "eps = 0.0001\n",
    "M = 20 + eps\n",
    "\n",
    "for t in range(T):\n",
    "    # Battery dynamics\n",
    "    model.addConstr(soe[t + 1] == soe[t] + action[t], name=f\"soe_update_{t}\")\n",
    "    model.addConstr(action[t]+prosumption[t] >= 0 + eps - M * (1 - b[t]), name=\"bigM_constr1\")\n",
    "    model.addConstr(action[t]+prosumption[t] <= 0 + M * b[t], name=\"bigM_constr2\")\n",
    "\n",
    "    # Add indicator constraints\n",
    "    model.addConstr((b[t] == 1) >> (z[t] == price[t]), name=\"indicator_constr1\")\n",
    "    model.addConstr((b[t] == 0) >> (z[t] == 0.1), name=\"indicator_constr2\")\n",
    "\n",
    "\n",
    "\n",
    "# Objective function: minimize cost\n",
    "obj = gp.quicksum(\n",
    "    (prosumption[t] + action[t]) * z[t]\n",
    "    for t in range(T)\n",
    ")\n",
    "model.setObjective(obj, GRB.MINIMIZE)\n",
    "\n",
    "# Optimize\n",
    "model.optimize()\n",
    "\n",
    "if model.status == GRB.OPTIMAL:\n",
    "    final_cost = 0.0\n",
    "    actions = [action[t].X for t in range(T)]\n",
    "    soes = [soe[t].X for t in range(T+1)]\n",
    "    used_price = [z[t].X for t in range(T)]\n",
    "    for t in range(T):\n",
    "        curr_price = price[t] if (prosumption[t]+actions[t]) >= 0 else 0.1\n",
    "        final_cost += (prosumption[t]+actions[t])*curr_price\n",
    "\n",
    "    print(f'final cost: {final_cost}')"
   ]
  }
 ],
 "metadata": {
  "kernelspec": {
   "display_name": "dtkd",
   "language": "python",
   "name": "python3"
  },
  "language_info": {
   "codemirror_mode": {
    "name": "ipython",
    "version": 3
   },
   "file_extension": ".py",
   "mimetype": "text/x-python",
   "name": "python",
   "nbconvert_exporter": "python",
   "pygments_lexer": "ipython3",
   "version": "3.13.5"
  }
 },
 "nbformat": 4,
 "nbformat_minor": 5
}
