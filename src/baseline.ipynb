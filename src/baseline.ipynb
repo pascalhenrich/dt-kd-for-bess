{
 "cells": [
  {
   "cell_type": "code",
   "execution_count": 1,
   "id": "b232cc3e",
   "metadata": {},
   "outputs": [],
   "source": [
    "import os\n",
    "import gurobipy as gp\n",
    "from gurobipy import GRB\n",
    "import numpy as np\n",
    "import pandas as pd\n",
    "from torch.utils.data import DataLoader\n",
    "import matplotlib.pyplot as plt\n",
    "import seaborn as sns\n",
    "\n",
    "from dataset.OnlineDataset import EnergyDataset\n",
    "import torch"
   ]
  },
  {
   "cell_type": "code",
   "execution_count": 8,
   "id": "a0807925",
   "metadata": {},
   "outputs": [],
   "source": [
    "ds = EnergyDataset(raw_data_path='../data/1_processed',\n",
    "                   sliding_window_size=336,\n",
    "                   sliding_window_offset=336,\n",
    "                   forecast_size=0,\n",
    "                   customer=1,\n",
    "                   mode='test',\n",
    "                   device='cpu')\n",
    "\n",
    "# prosumption = torch.tensor([])\n",
    "# price = torch.tensor([])\n",
    "# for i in range(0,1):\n",
    "#     prosumption = torch.cat([prosumption, ds[i]['prosumption']])\n",
    "#     price = torch.cat([price, ds[i]['price']])\n",
    "# T = len(prosumption)"
   ]
  },
  {
   "cell_type": "code",
   "execution_count": 12,
   "id": "2344d4f3",
   "metadata": {},
   "outputs": [
    {
     "data": {
      "text/plain": [
       "TensorDict(\n",
       "    fields={\n",
       "        load: Tensor(shape=torch.Size([336]), device=cpu, dtype=torch.float32, is_shared=False),\n",
       "        price: Tensor(shape=torch.Size([336]), device=cpu, dtype=torch.float32, is_shared=False),\n",
       "        prosumption: Tensor(shape=torch.Size([336]), device=cpu, dtype=torch.float32, is_shared=False),\n",
       "        pv: Tensor(shape=torch.Size([336]), device=cpu, dtype=torch.float32, is_shared=False)},\n",
       "    batch_size=torch.Size([336]),\n",
       "    device=cpu,\n",
       "    is_shared=False)"
      ]
     },
     "execution_count": 12,
     "metadata": {},
     "output_type": "execute_result"
    }
   ],
   "source": [
    "ds[0]"
   ]
  },
  {
   "cell_type": "markdown",
   "id": "5a787732",
   "metadata": {},
   "source": [
    "# WO Battery"
   ]
  },
  {
   "cell_type": "code",
   "execution_count": 14,
   "id": "640100c2",
   "metadata": {},
   "outputs": [
    {
     "data": {
      "text/plain": [
       "tensor(54.3945)"
      ]
     },
     "execution_count": 14,
     "metadata": {},
     "output_type": "execute_result"
    }
   ],
   "source": [
    "cost = 0\n",
    "\n",
    "for i in range(1):\n",
    "    curr_ds = ds[i]\n",
    "    prosumption = curr_ds['prosumption']\n",
    "    price = curr_ds['price']\n",
    "    for j in range(336):\n",
    "\n",
    "        cost  += prosumption[j] * price[j] if prosumption[j]>=0 else prosumption[j]*0.1\n",
    "cost"
   ]
  },
  {
   "cell_type": "markdown",
   "id": "aa83ae56",
   "metadata": {},
   "source": [
    "# Gurobi Optimizer"
   ]
  },
  {
   "cell_type": "code",
   "execution_count": 16,
   "id": "87642c27",
   "metadata": {},
   "outputs": [
    {
     "name": "stdout",
     "output_type": "stream",
     "text": [
      "Set parameter OutputFlag to value 1\n",
      "Gurobi Optimizer version 12.0.3 build v12.0.3rc0 (win64 - Windows 11.0 (26100.2))\n",
      "\n",
      "CPU model: AMD Ryzen 7 3700X 8-Core Processor, instruction set [SSE2|AVX|AVX2]\n",
      "Thread count: 8 physical cores, 16 logical processors, using up to 16 threads\n",
      "\n",
      "Optimize a model with 1009 rows, 1345 columns and 2353 nonzeros\n",
      "Model fingerprint: 0xacf52e4d\n",
      "Model has 336 quadratic objective terms\n",
      "Model has 672 simple general constraints\n",
      "  672 INDICATOR\n",
      "Variable types: 1009 continuous, 336 integer (336 binary)\n",
      "Coefficient statistics:\n",
      "  Matrix range     [1e+00, 2e+01]\n",
      "  Objective range  [1e-02, 3e+00]\n",
      "  QObjective range [2e+00, 2e+00]\n",
      "  Bounds range     [1e+00, 1e+01]\n",
      "  RHS range        [1e-02, 2e+01]\n",
      "  GenCon rhs range [1e-01, 5e-01]\n",
      "  GenCon coe range [1e+00, 1e+00]\n",
      "Presolve removed 101 rows and 389 columns\n",
      "Presolve time: 0.03s\n",
      "Presolved: 1195 rows, 1243 columns, 3011 nonzeros\n",
      "Variable types: 956 continuous, 287 integer (287 binary)\n",
      "Found heuristic solution: objective 41.1718865\n",
      "\n",
      "Root relaxation: objective -1.125653e+01, 665 iterations, 0.00 seconds (0.00 work units)\n",
      "\n",
      "    Nodes    |    Current Node    |     Objective Bounds      |     Work\n",
      " Expl Unexpl |  Obj  Depth IntInf | Incumbent    BestBd   Gap | It/Node Time\n",
      "\n",
      "     0     0  -11.25653    0  283   41.17189  -11.25653   127%     -    0s\n",
      "     0     0   35.84959    0  123   41.17189   35.84959  12.9%     -    0s\n",
      "H    0     0                      40.7588998   35.91310  11.9%     -    0s\n",
      "     0     0   36.39366    0  113   40.75890   36.39366  10.7%     -    0s\n",
      "     0     0   40.62406    0   11   40.75890   40.62406  0.33%     -    0s\n",
      "H    0     0                      40.7552378   40.62406  0.32%     -    0s\n",
      "H    0     0                      40.7552375   40.62446  0.32%     -    0s\n",
      "     0     0   40.62446    0    9   40.75524   40.62446  0.32%     -    0s\n",
      "H    0     0                      40.7552326   40.62446  0.32%     -    0s\n",
      "     0     0   40.73793    0    4   40.75523   40.73793  0.04%     -    0s\n",
      "H    0     0                      40.7419109   40.74023  0.00%     -    0s\n",
      "\n",
      "Cutting planes:\n",
      "  Learned: 264\n",
      "  Gomory: 7\n",
      "  Implied bound: 10\n",
      "  MIR: 236\n",
      "\n",
      "Explored 1 nodes (1567 simplex iterations) in 0.19 seconds (0.08 work units)\n",
      "Thread count was 16 (of 16 available processors)\n",
      "\n",
      "Solution count 6: 40.7419 40.7552 40.7552 ... 41.1719\n",
      "\n",
      "Optimal solution found (tolerance 1.00e-04)\n",
      "Best objective 4.074191093094e+01, best bound 4.074023166698e+01, gap 0.0041%\n",
      "final cost: 40.74191665649414\n"
     ]
    }
   ],
   "source": [
    "curr_ds = ds[0]\n",
    "prosumption = curr_ds['prosumption']\n",
    "price = curr_ds['price']\n",
    "T=336\n",
    "max_charge = 1.25\n",
    "max_discharge = -1.25\n",
    "battery_capacity = 10.0\n",
    "big_M = 1e4  # A sufficiently large number\n",
    "\n",
    "# Create model\n",
    "model = gp.Model(\"BatteryCharging\")\n",
    "model.Params.OutputFlag = 1\n",
    "\n",
    "# Variables\n",
    "action = model.addVars(T, lb=max_discharge, ub=max_charge, name=\"action\")\n",
    "soe = model.addVars(T + 1, lb=0.0, ub=battery_capacity, name=\"soe\")\n",
    "z = model.addVars(T, lb=0.0, ub=10, vtype=GRB.CONTINUOUS, name='actual_price')\n",
    "b = model.addVars(T, vtype=GRB.BINARY, name=\"b\")\n",
    "\n",
    "# Initial SoE\n",
    "model.addConstr(soe[0] == 0.0, name=\"initial_soe\")\n",
    "\n",
    "eps = 0.0001\n",
    "M = 20 + eps\n",
    "\n",
    "for t in range(T):\n",
    "    # Battery dynamics\n",
    "    model.addConstr(soe[t + 1] == soe[t] + action[t], name=f\"soe_update_{t}\")\n",
    "    model.addConstr(action[t]+prosumption[t] >= 0 + eps - M * (1 - b[t]), name=\"bigM_constr1\")\n",
    "    model.addConstr(action[t]+prosumption[t] <= 0 + M * b[t], name=\"bigM_constr2\")\n",
    "\n",
    "    # Add indicator constraints\n",
    "    model.addConstr((b[t] == 1) >> (z[t] == price[t]), name=\"indicator_constr1\")\n",
    "    model.addConstr((b[t] == 0) >> (z[t] == 0.1), name=\"indicator_constr2\")\n",
    "\n",
    "\n",
    "\n",
    "# Objective function: minimize cost\n",
    "obj = gp.quicksum(\n",
    "    (prosumption[t] + action[t]) * z[t]\n",
    "    for t in range(T)\n",
    ")\n",
    "model.setObjective(obj, GRB.MINIMIZE)\n",
    "\n",
    "# Optimize\n",
    "model.optimize()\n",
    "\n",
    "if model.status == GRB.OPTIMAL:\n",
    "    final_cost = 0.0\n",
    "    actions = [action[t].X for t in range(T)]\n",
    "    soes = [soe[t].X for t in range(T+1)]\n",
    "    used_price = [z[t].X for t in range(T)]\n",
    "    for t in range(T):\n",
    "        curr_price = price[t] if (prosumption[t]+actions[t]) >= 0 else 0.1\n",
    "        final_cost += (prosumption[t]+actions[t])*curr_price\n",
    "\n",
    "    print(f'final cost: {final_cost}')"
   ]
  }
 ],
 "metadata": {
  "kernelspec": {
   "display_name": "dtkd",
   "language": "python",
   "name": "python3"
  },
  "language_info": {
   "codemirror_mode": {
    "name": "ipython",
    "version": 3
   },
   "file_extension": ".py",
   "mimetype": "text/x-python",
   "name": "python",
   "nbconvert_exporter": "python",
   "pygments_lexer": "ipython3",
   "version": "3.13.5"
  }
 },
 "nbformat": 4,
 "nbformat_minor": 5
}
