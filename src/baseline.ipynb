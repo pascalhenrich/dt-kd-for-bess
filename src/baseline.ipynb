{
 "cells": [
  {
   "cell_type": "code",
   "execution_count": 1,
   "id": "b232cc3e",
   "metadata": {},
   "outputs": [],
   "source": [
    "import os\n",
    "import gurobipy as gp\n",
    "from gurobipy import GRB\n",
    "import numpy as np\n",
    "import pandas as pd\n",
    "from torch.utils.data import DataLoader\n",
    "import matplotlib.pyplot as plt\n",
    "import seaborn as sns\n",
    "\n",
    "from dataset.OnlineDataset import OnlineDataset\n",
    "import torch"
   ]
  },
  {
   "cell_type": "code",
   "execution_count": 2,
   "id": "37b97bbc",
   "metadata": {},
   "outputs": [],
   "source": [
    "customer=[13,35,74,82,87]"
   ]
  },
  {
   "cell_type": "code",
   "execution_count": null,
   "id": "a0807925",
   "metadata": {},
   "outputs": [
    {
     "name": "stdout",
     "output_type": "stream",
     "text": [
      "Battery capacity: 6.0 kWh, Max power: 1.5 kW\n"
     ]
    }
   ],
   "source": [
    "ds = OnlineDataset(raw_data_path='../data/1_processed',\n",
    "                   sliding_window_size=336,\n",
    "                   sliding_window_offset=336,\n",
    "                   forecast_size=0,\n",
    "                   customer=87,\n",
    "                   mode='test',\n",
    "                   device='cpu')\n",
    "battery_capacity = ds.getBatteryCapacity()\n",
    "max_power = ds.getBatteryCapacity()/4\n",
    "print(f'Battery capacity: {battery_capacity} kWh, Max power: {max_power} kW')"
   ]
  },
  {
   "cell_type": "markdown",
   "id": "5a787732",
   "metadata": {},
   "source": [
    "# WO Battery"
   ]
  },
  {
   "cell_type": "code",
   "execution_count": 17,
   "id": "640100c2",
   "metadata": {},
   "outputs": [
    {
     "data": {
      "text/plain": [
       "tensor(10.7644)"
      ]
     },
     "execution_count": 17,
     "metadata": {},
     "output_type": "execute_result"
    }
   ],
   "source": [
    "cost = 0\n",
    "curr_ds = ds[0]\n",
    "prosumption = curr_ds['prosumption']\n",
    "price = curr_ds['price']\n",
    "for j in range(336):\n",
    "\n",
    "        cost  += prosumption[j] * price[j] if prosumption[j]>=0 else prosumption[j]*0.1\n",
    "cost"
   ]
  },
  {
   "cell_type": "markdown",
   "id": "aa83ae56",
   "metadata": {},
   "source": [
    "# Gurobi Optimizer"
   ]
  },
  {
   "cell_type": "code",
   "execution_count": 6,
   "id": "87642c27",
   "metadata": {},
   "outputs": [
    {
     "name": "stdout",
     "output_type": "stream",
     "text": [
      "Set parameter Username\n",
      "Set parameter LicenseID to value 2708918\n"
     ]
    },
    {
     "ename": "GurobiError",
     "evalue": "HostID mismatch (licensed to 5d2360b0, hostid is 5d3e0573)",
     "output_type": "error",
     "traceback": [
      "\u001b[31m---------------------------------------------------------------------------\u001b[39m",
      "\u001b[31mGurobiError\u001b[39m                               Traceback (most recent call last)",
      "\u001b[36mCell\u001b[39m\u001b[36m \u001b[39m\u001b[32mIn[6]\u001b[39m\u001b[32m, line 13\u001b[39m\n\u001b[32m     10\u001b[39m big_M = \u001b[32m1e4\u001b[39m  \u001b[38;5;66;03m# A sufficiently large number\u001b[39;00m\n\u001b[32m     12\u001b[39m \u001b[38;5;66;03m# Create model\u001b[39;00m\n\u001b[32m---> \u001b[39m\u001b[32m13\u001b[39m model = \u001b[43mgp\u001b[49m\u001b[43m.\u001b[49m\u001b[43mModel\u001b[49m\u001b[43m(\u001b[49m\u001b[33;43m\"\u001b[39;49m\u001b[33;43mBatteryCharging\u001b[39;49m\u001b[33;43m\"\u001b[39;49m\u001b[43m)\u001b[49m\n\u001b[32m     14\u001b[39m model.Params.OutputFlag = \u001b[32m1\u001b[39m\n\u001b[32m     16\u001b[39m \u001b[38;5;66;03m# Variables\u001b[39;00m\n",
      "\u001b[36mFile \u001b[39m\u001b[32msrc/gurobipy/_model.pyx:146\u001b[39m, in \u001b[36mgurobipy._model.Model.__init__\u001b[39m\u001b[34m()\u001b[39m\n",
      "\u001b[36mFile \u001b[39m\u001b[32msrc/gurobipy/gurobi.pxi:60\u001b[39m, in \u001b[36mgurobipy._core.gurobi._getdefaultenv\u001b[39m\u001b[34m()\u001b[39m\n",
      "\u001b[36mFile \u001b[39m\u001b[32msrc/gurobipy/env.pxi:108\u001b[39m, in \u001b[36mgurobipy._core.Env.__init__\u001b[39m\u001b[34m()\u001b[39m\n",
      "\u001b[31mGurobiError\u001b[39m: HostID mismatch (licensed to 5d2360b0, hostid is 5d3e0573)"
     ]
    }
   ],
   "source": [
    "final_cost = 0.0\n",
    "# for i in range(51):\n",
    "curr_ds = ds[0]\n",
    "prosumption = curr_ds['prosumption']\n",
    "price = curr_ds['price']\n",
    "T=336\n",
    "max_charge = 0.25\n",
    "max_discharge = -0.25\n",
    "battery_capacity = 2.0\n",
    "big_M = 1e4  # A sufficiently large number\n",
    "\n",
    "# Create model\n",
    "model = gp.Model(\"BatteryCharging\")\n",
    "model.Params.OutputFlag = 1\n",
    "\n",
    "# Variables\n",
    "action = model.addVars(T, lb=max_discharge, ub=max_charge, name=\"action\")\n",
    "soe = model.addVars(T + 1, lb=0.0, ub=battery_capacity, name=\"soe\")\n",
    "z = model.addVars(T, lb=0.0, ub=10, vtype=GRB.CONTINUOUS, name='actual_price')\n",
    "b = model.addVars(T, vtype=GRB.BINARY, name=\"b\")\n",
    "\n",
    "# Initial SoE\n",
    "model.addConstr(soe[0] == 0.0, name=\"initial_soe\")\n",
    "\n",
    "eps = 0.0001\n",
    "M = 20 + eps\n",
    "\n",
    "for t in range(T):\n",
    "    # Battery dynamics\n",
    "    model.addConstr(soe[t + 1] == soe[t] + action[t], name=f\"soe_update_{t}\")\n",
    "    model.addConstr(action[t]+prosumption[t] >= 0 + eps - M * (1 - b[t]), name=\"bigM_constr1\")\n",
    "    model.addConstr(action[t]+prosumption[t] <= 0 + M * b[t], name=\"bigM_constr2\")\n",
    "\n",
    "    # Add indicator constraints\n",
    "    model.addConstr((b[t] == 1) >> (z[t] == price[t]), name=\"indicator_constr1\")\n",
    "    model.addConstr((b[t] == 0) >> (z[t] == 0.1), name=\"indicator_constr2\")\n",
    "\n",
    "\n",
    "\n",
    "# Objective function: minimize cost\n",
    "obj = gp.quicksum(\n",
    "    (prosumption[t] + action[t]) * z[t]\n",
    "    for t in range(T)\n",
    ")\n",
    "model.setObjective(obj, GRB.MINIMIZE)\n",
    "\n",
    "# Optimize\n",
    "model.optimize()\n",
    "\n",
    "if model.status == GRB.OPTIMAL:\n",
    "    actions = [action[t].X for t in range(T)]\n",
    "    soes = [soe[t].X for t in range(T+1)]\n",
    "    used_price = [z[t].X for t in range(T)]\n",
    "    for t in range(T):\n",
    "        curr_price = price[t] if (prosumption[t]+actions[t]) >= 0 else 0.1\n",
    "        final_cost += (prosumption[t]+actions[t])*curr_price\n",
    "\n",
    "print(f'final cost: {final_cost}')"
   ]
  }
 ],
 "metadata": {
  "kernelspec": {
   "display_name": "dtkd",
   "language": "python",
   "name": "python3"
  },
  "language_info": {
   "codemirror_mode": {
    "name": "ipython",
    "version": 3
   },
   "file_extension": ".py",
   "mimetype": "text/x-python",
   "name": "python",
   "nbconvert_exporter": "python",
   "pygments_lexer": "ipython3",
   "version": "3.13.3"
  }
 },
 "nbformat": 4,
 "nbformat_minor": 5
}
